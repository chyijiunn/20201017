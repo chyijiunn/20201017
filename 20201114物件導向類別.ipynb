{
  "nbformat": 4,
  "nbformat_minor": 0,
  "metadata": {
    "colab": {
      "name": "20201114物件導向類別.ipynb",
      "provenance": [],
      "collapsed_sections": [],
      "authorship_tag": "ABX9TyNfQweI1Xu77JanrnNsEm29",
      "include_colab_link": true
    },
    "kernelspec": {
      "name": "python3",
      "display_name": "Python 3"
    }
  },
  "cells": [
    {
      "cell_type": "markdown",
      "metadata": {
        "id": "view-in-github",
        "colab_type": "text"
      },
      "source": [
        "<a href=\"https://colab.research.google.com/github/chyijiunn/20201017/blob/main/20201114%E7%89%A9%E4%BB%B6%E5%B0%8E%E5%90%91%E9%A1%9E%E5%88%A5.ipynb\" target=\"_parent\"><img src=\"https://colab.research.google.com/assets/colab-badge.svg\" alt=\"Open In Colab\"/></a>"
      ]
    },
    {
      "cell_type": "code",
      "metadata": {
        "id": "ZD_XCGZgKrrg",
        "outputId": "0031dbd6-7f44-4be8-c881-bc3d994825d8",
        "colab": {
          "base_uri": "https://localhost:8080/"
        }
      },
      "source": [
        "# 交通工具(基底類別Base class )\n",
        "class Transportation:\n",
        "    # 駕駛方法\n",
        "    def drive(self):\n",
        "        print(\"父類別drive method is called.\")\n",
        "        \n",
        "# 汽車子類別\n",
        "class Car(Transportation):\n",
        "    # 駕駛方法\n",
        "    def drive(self):\n",
        "        super().drive()\n",
        "        print(\"Sub class drive method is called.\")\n",
        "\n",
        "mazda = Car()\n",
        "mazda.drive()"
      ],
      "execution_count": 1,
      "outputs": [
        {
          "output_type": "stream",
          "text": [
            "基底類別drive method is called.\n",
            "Sub class drive method is called.\n"
          ],
          "name": "stdout"
        }
      ]
    }
  ]
}