{
  "nbformat": 4,
  "nbformat_minor": 0,
  "metadata": {
    "colab": {
      "name": "20201114物件導向類別.ipynb",
      "provenance": [],
      "collapsed_sections": [],
      "authorship_tag": "ABX9TyOlo2uY5YtfxQlW+kyWfgdT",
      "include_colab_link": true
    },
    "kernelspec": {
      "name": "python3",
      "display_name": "Python 3"
    }
  },
  "cells": [
    {
      "cell_type": "markdown",
      "metadata": {
        "id": "view-in-github",
        "colab_type": "text"
      },
      "source": [
        "<a href=\"https://colab.research.google.com/github/chyijiunn/20201017/blob/main/20201114%E7%89%A9%E4%BB%B6%E5%B0%8E%E5%90%91%E9%A1%9E%E5%88%A5.ipynb\" target=\"_parent\"><img src=\"https://colab.research.google.com/assets/colab-badge.svg\" alt=\"Open In Colab\"/></a>"
      ]
    },
    {
      "cell_type": "code",
      "metadata": {
        "id": "ZD_XCGZgKrrg",
        "outputId": "c5d14086-e7e6-4298-d8f9-d6d1d732837c",
        "colab": {
          "base_uri": "https://localhost:8080/"
        }
      },
      "source": [
        "# 交通工具(基底類別Base class )\n",
        "class Transportation:\n",
        "    # 駕駛方法\n",
        "    def drive(self):\n",
        "        print(\"父類別drive method is called.\")\n",
        "        \n",
        "# 汽車子類別\n",
        "class Car(Transportation):\n",
        "    # 駕駛方法\n",
        "    def drive(self):\n",
        "        super().drive()\n",
        "        print(\"Sub class drive method is called.\")\n",
        "\n",
        "mazda = Car()\n",
        "mazda.drive()"
      ],
      "execution_count": 2,
      "outputs": [
        {
          "output_type": "stream",
          "text": [
            "父類別drive method is called.\n",
            "Sub class drive method is called.\n"
          ],
          "name": "stdout"
        }
      ]
    },
    {
      "cell_type": "code",
      "metadata": {
        "id": "9qAcvm-7b7o0"
      },
      "source": [
        ""
      ],
      "execution_count": null,
      "outputs": []
    }
  ]
}